{
 "cells": [
  {
   "cell_type": "code",
   "execution_count": 38,
   "metadata": {},
   "outputs": [],
   "source": [
    "import pandas as pd\n",
    "from pathlib import Path\n",
    "import matplotlib.pyplot as plt\n",
    "from sklearn.model_selection import train_test_split\n",
    "from sklearn.feature_extraction import DictVectorizer\n",
    "\n",
    "%matplotlib inline"
   ]
  },
  {
   "cell_type": "code",
   "execution_count": 39,
   "metadata": {
    "ExecuteTime": {
     "end_time": "2023-08-08T10:53:15.464385Z",
     "start_time": "2023-08-08T10:53:15.454596Z"
    }
   },
   "outputs": [],
   "source": [
    "use_sample= True\n",
    "random_state = 1024"
   ]
  },
  {
   "cell_type": "code",
   "execution_count": 40,
   "metadata": {
    "ExecuteTime": {
     "end_time": "2023-08-08T10:53:18.521717Z",
     "start_time": "2023-08-08T10:53:15.574357Z"
    }
   },
   "outputs": [],
   "source": [
    "path_data = Path('data/vehicles.feather')\n",
    "if not path_data.exists():\n",
    "    df_cars = pd.read_csv(\"data/vehicles.csv\")\n",
    "#     save as .feather for future. Faster.\n",
    "    df_cars.to_feather(path_data)\n",
    "else :\n",
    "    df_cars = pd.read_feather(path_data)"
   ]
  },
  {
   "cell_type": "markdown",
   "metadata": {},
   "source": [
    "Check for missing values"
   ]
  },
  {
   "cell_type": "code",
   "execution_count": 41,
   "metadata": {
    "ExecuteTime": {
     "end_time": "2023-08-08T10:53:23.977400Z",
     "start_time": "2023-08-08T10:53:23.763584Z"
    }
   },
   "outputs": [
    {
     "data": {
      "text/plain": [
       "id                   0\n",
       "url                  0\n",
       "region               0\n",
       "region_url           0\n",
       "price                0\n",
       "year              1205\n",
       "manufacturer     17646\n",
       "model             5277\n",
       "condition       174104\n",
       "cylinders       177678\n",
       "fuel              3013\n",
       "odometer          4400\n",
       "title_status      8242\n",
       "transmission      2556\n",
       "VIN             161042\n",
       "drive           130567\n",
       "size            306361\n",
       "type             92858\n",
       "paint_color     130203\n",
       "image_url           68\n",
       "description         70\n",
       "county          426880\n",
       "state                0\n",
       "lat               6549\n",
       "long              6549\n",
       "posting_date        68\n",
       "dtype: int64"
      ]
     },
     "execution_count": 41,
     "metadata": {},
     "output_type": "execute_result"
    }
   ],
   "source": [
    "df_cars.isna().sum()"
   ]
  },
  {
   "cell_type": "markdown",
   "metadata": {},
   "source": [
    "Since there are a lot of missing values, we will use the columns with few missing values"
   ]
  },
  {
   "cell_type": "code",
   "execution_count": 42,
   "metadata": {
    "ExecuteTime": {
     "end_time": "2023-08-08T10:53:48.587277Z",
     "start_time": "2023-08-08T10:53:48.553070Z"
    }
   },
   "outputs": [],
   "source": [
    "cols = ['id','year','fuel','odometer','transmission', 'price']\n",
    "df_cars = df_cars[cols]"
   ]
  },
  {
   "cell_type": "code",
   "execution_count": 43,
   "metadata": {
    "ExecuteTime": {
     "end_time": "2023-08-08T10:53:49.053720Z",
     "start_time": "2023-08-08T10:53:48.997845Z"
    }
   },
   "outputs": [],
   "source": [
    "df_cars = df_cars.loc[~df_cars.isna().any(axis = 1)]"
   ]
  },
  {
   "cell_type": "code",
   "execution_count": 44,
   "metadata": {
    "ExecuteTime": {
     "end_time": "2023-08-08T10:53:49.640061Z",
     "start_time": "2023-08-08T10:53:49.607675Z"
    }
   },
   "outputs": [],
   "source": [
    "if use_sample:\n",
    "    df = df_cars.sample(frac = .1, random_state=random_state)\n",
    "else:\n",
    "    df = df_cars.copy()"
   ]
  },
  {
   "cell_type": "markdown",
   "metadata": {},
   "source": [
    "Ensure that the ids are unique in the dataset.\n",
    "\n",
    "If not, select first instance of each id."
   ]
  },
  {
   "cell_type": "code",
   "execution_count": 45,
   "metadata": {
    "ExecuteTime": {
     "end_time": "2023-08-08T10:53:59.257257Z",
     "start_time": "2023-08-08T10:53:59.239792Z"
    }
   },
   "outputs": [],
   "source": [
    "try:\n",
    "    assert len(df.id.unique()) == df.shape[0]\n",
    "except:\n",
    "    print(\"there are multiple rows for the same ID\")\n",
    "    print(\"selecting the first row for each ID\")\n",
    "    df.groupby(['id']).first().reset_index(drop =False,inplace=True)"
   ]
  },
  {
   "cell_type": "markdown",
   "metadata": {},
   "source": [
    "convert all string dtypes to categorical"
   ]
  },
  {
   "cell_type": "code",
   "execution_count": 46,
   "metadata": {
    "ExecuteTime": {
     "end_time": "2023-08-08T10:54:00.756371Z",
     "start_time": "2023-08-08T10:54:00.746820Z"
    }
   },
   "outputs": [],
   "source": [
    "# from pandas.api.types import is_string_dtype\n",
    "# for col in df.columns:\n",
    "#     if is_string_dtype(df[col]):\n",
    "#         df[col] = pd.Categorical(df[col])\n",
    "# df.dtypes"
   ]
  },
  {
   "cell_type": "markdown",
   "metadata": {},
   "source": [
    "Split to train and test"
   ]
  },
  {
   "cell_type": "code",
   "execution_count": 47,
   "metadata": {
    "ExecuteTime": {
     "end_time": "2023-08-08T10:50:09.502444Z",
     "start_time": "2023-08-08T10:50:09.495065Z"
    }
   },
   "outputs": [],
   "source": [
    "categorical = ['fuel','transmission']\n",
    "numeric = ['year','odometer']\n",
    "target = 'price'"
   ]
  },
  {
   "cell_type": "code",
   "execution_count": 48,
   "metadata": {
    "ExecuteTime": {
     "end_time": "2023-08-08T10:50:11.993503Z",
     "start_time": "2023-08-08T10:50:11.977101Z"
    }
   },
   "outputs": [],
   "source": [
    "df[categorical] = df[categorical].astype(str)"
   ]
  },
  {
   "cell_type": "markdown",
   "metadata": {},
   "source": [
    "Split to train, validation and test datasets."
   ]
  },
  {
   "cell_type": "markdown",
   "metadata": {},
   "source": [
    "- Train dataset       - old cars (cars with year < 2017) => 74%\n",
    "- Validation dataset  - newer cars (2017 <= year <=2018) => 15%\n",
    "- Test dataset        - newest cars (2019 <= year)       => 11%"
   ]
  },
  {
   "cell_type": "code",
   "execution_count": 49,
   "metadata": {
    "ExecuteTime": {
     "end_time": "2023-08-08T10:51:45.841408Z",
     "start_time": "2023-08-08T10:51:45.821576Z"
    }
   },
   "outputs": [
    {
     "data": {
      "text/html": [
       "<div>\n",
       "<style scoped>\n",
       "    .dataframe tbody tr th:only-of-type {\n",
       "        vertical-align: middle;\n",
       "    }\n",
       "\n",
       "    .dataframe tbody tr th {\n",
       "        vertical-align: top;\n",
       "    }\n",
       "\n",
       "    .dataframe thead th {\n",
       "        text-align: right;\n",
       "    }\n",
       "</style>\n",
       "<table border=\"1\" class=\"dataframe\">\n",
       "  <thead>\n",
       "    <tr style=\"text-align: right;\">\n",
       "      <th></th>\n",
       "      <th>id</th>\n",
       "      <th>year</th>\n",
       "      <th>fuel</th>\n",
       "      <th>odometer</th>\n",
       "      <th>transmission</th>\n",
       "      <th>price</th>\n",
       "    </tr>\n",
       "  </thead>\n",
       "  <tbody>\n",
       "    <tr>\n",
       "      <th>411308</th>\n",
       "      <td>7311450486</td>\n",
       "      <td>2013.0</td>\n",
       "      <td>gas</td>\n",
       "      <td>46267.0</td>\n",
       "      <td>automatic</td>\n",
       "      <td>15995</td>\n",
       "    </tr>\n",
       "    <tr>\n",
       "      <th>340463</th>\n",
       "      <td>7303076328</td>\n",
       "      <td>2020.0</td>\n",
       "      <td>gas</td>\n",
       "      <td>21938.0</td>\n",
       "      <td>other</td>\n",
       "      <td>25990</td>\n",
       "    </tr>\n",
       "    <tr>\n",
       "      <th>311669</th>\n",
       "      <td>7314370012</td>\n",
       "      <td>1998.0</td>\n",
       "      <td>gas</td>\n",
       "      <td>320220.0</td>\n",
       "      <td>automatic</td>\n",
       "      <td>123</td>\n",
       "    </tr>\n",
       "    <tr>\n",
       "      <th>262500</th>\n",
       "      <td>7306571989</td>\n",
       "      <td>2017.0</td>\n",
       "      <td>diesel</td>\n",
       "      <td>29014.0</td>\n",
       "      <td>other</td>\n",
       "      <td>19590</td>\n",
       "    </tr>\n",
       "    <tr>\n",
       "      <th>33923</th>\n",
       "      <td>7316374412</td>\n",
       "      <td>2005.0</td>\n",
       "      <td>gas</td>\n",
       "      <td>130000.0</td>\n",
       "      <td>automatic</td>\n",
       "      <td>1500</td>\n",
       "    </tr>\n",
       "  </tbody>\n",
       "</table>\n",
       "</div>"
      ],
      "text/plain": [
       "                id    year    fuel  odometer transmission  price\n",
       "411308  7311450486  2013.0     gas   46267.0    automatic  15995\n",
       "340463  7303076328  2020.0     gas   21938.0        other  25990\n",
       "311669  7314370012  1998.0     gas  320220.0    automatic    123\n",
       "262500  7306571989  2017.0  diesel   29014.0        other  19590\n",
       "33923   7316374412  2005.0     gas  130000.0    automatic   1500"
      ]
     },
     "execution_count": 49,
     "metadata": {},
     "output_type": "execute_result"
    }
   ],
   "source": [
    "df.head()"
   ]
  },
  {
   "cell_type": "code",
   "execution_count": 50,
   "metadata": {},
   "outputs": [
    {
     "data": {
      "text/html": [
       "<div>\n",
       "<style scoped>\n",
       "    .dataframe tbody tr th:only-of-type {\n",
       "        vertical-align: middle;\n",
       "    }\n",
       "\n",
       "    .dataframe tbody tr th {\n",
       "        vertical-align: top;\n",
       "    }\n",
       "\n",
       "    .dataframe thead th {\n",
       "        text-align: right;\n",
       "    }\n",
       "</style>\n",
       "<table border=\"1\" class=\"dataframe\">\n",
       "  <thead>\n",
       "    <tr style=\"text-align: right;\">\n",
       "      <th></th>\n",
       "      <th>year</th>\n",
       "      <th>proportion</th>\n",
       "    </tr>\n",
       "  </thead>\n",
       "  <tbody>\n",
       "    <tr>\n",
       "      <th>59</th>\n",
       "      <td>2022.0</td>\n",
       "      <td>0.000431</td>\n",
       "    </tr>\n",
       "    <tr>\n",
       "      <th>22</th>\n",
       "      <td>2021.0</td>\n",
       "      <td>0.005724</td>\n",
       "    </tr>\n",
       "    <tr>\n",
       "      <th>9</th>\n",
       "      <td>2020.0</td>\n",
       "      <td>0.044857</td>\n",
       "    </tr>\n",
       "    <tr>\n",
       "      <th>6</th>\n",
       "      <td>2019.0</td>\n",
       "      <td>0.060615</td>\n",
       "    </tr>\n",
       "    <tr>\n",
       "      <th>0</th>\n",
       "      <td>2018.0</td>\n",
       "      <td>0.088205</td>\n",
       "    </tr>\n",
       "    <tr>\n",
       "      <th>1</th>\n",
       "      <td>2017.0</td>\n",
       "      <td>0.083990</td>\n",
       "    </tr>\n",
       "    <tr>\n",
       "      <th>3</th>\n",
       "      <td>2016.0</td>\n",
       "      <td>0.071776</td>\n",
       "    </tr>\n",
       "    <tr>\n",
       "      <th>2</th>\n",
       "      <td>2015.0</td>\n",
       "      <td>0.074267</td>\n",
       "    </tr>\n",
       "    <tr>\n",
       "      <th>5</th>\n",
       "      <td>2014.0</td>\n",
       "      <td>0.069333</td>\n",
       "    </tr>\n",
       "    <tr>\n",
       "      <th>4</th>\n",
       "      <td>2013.0</td>\n",
       "      <td>0.071081</td>\n",
       "    </tr>\n",
       "  </tbody>\n",
       "</table>\n",
       "</div>"
      ],
      "text/plain": [
       "      year  proportion\n",
       "59  2022.0    0.000431\n",
       "22  2021.0    0.005724\n",
       "9   2020.0    0.044857\n",
       "6   2019.0    0.060615\n",
       "0   2018.0    0.088205\n",
       "1   2017.0    0.083990\n",
       "3   2016.0    0.071776\n",
       "2   2015.0    0.074267\n",
       "5   2014.0    0.069333\n",
       "4   2013.0    0.071081"
      ]
     },
     "execution_count": 50,
     "metadata": {},
     "output_type": "execute_result"
    }
   ],
   "source": [
    "(pd.DataFrame(df.year.value_counts(normalize=True))\n",
    " .reset_index(drop = False)\n",
    " .sort_values(by = 'year', ascending = False)\n",
    " .head(10))"
   ]
  },
  {
   "cell_type": "code",
   "execution_count": 54,
   "metadata": {},
   "outputs": [],
   "source": [
    "dftr = df.loc[df.year < 2017].copy()\n",
    "dfval = df.loc[df.year.isin([2017, 2018])].copy()\n",
    "dfte = df.loc[df.year > 2018].copy()"
   ]
  },
  {
   "cell_type": "markdown",
   "metadata": {},
   "source": [
    "Fit DictVectorizer for categorical columns"
   ]
  },
  {
   "cell_type": "code",
   "execution_count": 55,
   "metadata": {},
   "outputs": [],
   "source": [
    "dv = DictVectorizer()\n",
    "tr_dicts = dftr[numeric + categorical].to_dict(orient = 'records')\n",
    "xtr = dv.fit_transform(tr_dicts)\n",
    "ytr = dftr[target].values\n",
    "val_dicts = dfval[numeric + categorical].to_dict(orient='records')\n",
    "xval = dv.transform(val_dicts)\n",
    "yval = dfval[target].values\n",
    "te_dicts = dfte[numeric+categorical].to_dict(orient = 'records')\n",
    "xte = dv.transform(te_dicts)\n",
    "xte = dfte[target].values"
   ]
  },
  {
   "cell_type": "markdown",
   "metadata": {},
   "source": [
    "Train Models"
   ]
  },
  {
   "cell_type": "code",
   "execution_count": 128,
   "metadata": {},
   "outputs": [],
   "source": [
    "from sklearn.ensemble import RandomForestRegressor\n",
    "import xgboost as xgb"
   ]
  },
  {
   "cell_type": "code",
   "execution_count": null,
   "metadata": {},
   "outputs": [],
   "source": []
  }
 ],
 "metadata": {
  "kernelspec": {
   "display_name": "Python 3 (ipykernel)",
   "language": "python",
   "name": "python3"
  },
  "language_info": {
   "codemirror_mode": {
    "name": "ipython",
    "version": 3
   },
   "file_extension": ".py",
   "mimetype": "text/x-python",
   "name": "python",
   "nbconvert_exporter": "python",
   "pygments_lexer": "ipython3",
   "version": "3.9.6"
  },
  "toc": {
   "base_numbering": 1,
   "nav_menu": {},
   "number_sections": true,
   "sideBar": true,
   "skip_h1_title": false,
   "title_cell": "Table of Contents",
   "title_sidebar": "Contents",
   "toc_cell": false,
   "toc_position": {},
   "toc_section_display": true,
   "toc_window_display": false
  }
 },
 "nbformat": 4,
 "nbformat_minor": 4
}
