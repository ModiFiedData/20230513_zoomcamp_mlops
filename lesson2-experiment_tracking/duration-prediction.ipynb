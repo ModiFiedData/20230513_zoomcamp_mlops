{
 "cells": [
  {
   "cell_type": "code",
   "execution_count": 2,
   "id": "41062d8a",
   "metadata": {
    "ExecuteTime": {
     "end_time": "2023-05-26T09:28:31.846442Z",
     "start_time": "2023-05-26T09:28:31.481275Z"
    }
   },
   "outputs": [],
   "source": [
    "import pandas as pd"
   ]
  },
  {
   "cell_type": "code",
   "execution_count": 3,
   "id": "c984c564",
   "metadata": {
    "ExecuteTime": {
     "end_time": "2023-05-26T09:28:31.850577Z",
     "start_time": "2023-05-26T09:28:31.848565Z"
    }
   },
   "outputs": [],
   "source": [
    "import pickle"
   ]
  },
  {
   "cell_type": "code",
   "execution_count": 4,
   "id": "4add538c",
   "metadata": {
    "ExecuteTime": {
     "end_time": "2023-05-26T09:28:32.623973Z",
     "start_time": "2023-05-26T09:28:31.851549Z"
    }
   },
   "outputs": [],
   "source": [
    "import seaborn as sns\n",
    "import matplotlib.pyplot as plt"
   ]
  },
  {
   "cell_type": "code",
   "execution_count": 5,
   "id": "8b135c2b",
   "metadata": {
    "ExecuteTime": {
     "end_time": "2023-05-26T09:28:32.810520Z",
     "start_time": "2023-05-26T09:28:32.625507Z"
    }
   },
   "outputs": [],
   "source": [
    "from sklearn.feature_extraction import DictVectorizer\n",
    "from sklearn.linear_model import LinearRegression\n",
    "from sklearn.linear_model import Lasso\n",
    "from sklearn.linear_model import Ridge\n",
    "\n",
    "from sklearn.metrics import mean_squared_error"
   ]
  },
  {
   "cell_type": "code",
   "execution_count": 6,
   "id": "06180e64",
   "metadata": {
    "ExecuteTime": {
     "end_time": "2023-05-26T09:29:25.884619Z",
     "start_time": "2023-05-26T09:29:25.206124Z"
    }
   },
   "outputs": [
    {
     "name": "stderr",
     "output_type": "stream",
     "text": [
      "2023/05/26 14:59:25 INFO mlflow.store.db.utils: Creating initial MLflow database tables...\n",
      "2023/05/26 14:59:25 INFO mlflow.store.db.utils: Updating database tables\n",
      "INFO  [alembic.runtime.migration] Context impl SQLiteImpl.\n",
      "INFO  [alembic.runtime.migration] Will assume non-transactional DDL.\n",
      "INFO  [alembic.runtime.migration] Running upgrade  -> 451aebb31d03, add metric step\n",
      "INFO  [alembic.runtime.migration] Running upgrade 451aebb31d03 -> 90e64c465722, migrate user column to tags\n",
      "INFO  [alembic.runtime.migration] Running upgrade 90e64c465722 -> 181f10493468, allow nulls for metric values\n",
      "INFO  [alembic.runtime.migration] Running upgrade 181f10493468 -> df50e92ffc5e, Add Experiment Tags Table\n",
      "INFO  [alembic.runtime.migration] Running upgrade df50e92ffc5e -> 7ac759974ad8, Update run tags with larger limit\n",
      "INFO  [alembic.runtime.migration] Running upgrade 7ac759974ad8 -> 89d4b8295536, create latest metrics table\n",
      "INFO  [89d4b8295536_create_latest_metrics_table_py] Migration complete!\n",
      "INFO  [alembic.runtime.migration] Running upgrade 89d4b8295536 -> 2b4d017a5e9b, add model registry tables to db\n",
      "INFO  [2b4d017a5e9b_add_model_registry_tables_to_db_py] Adding registered_models and model_versions tables to database.\n",
      "INFO  [2b4d017a5e9b_add_model_registry_tables_to_db_py] Migration complete!\n",
      "INFO  [alembic.runtime.migration] Running upgrade 2b4d017a5e9b -> cfd24bdc0731, Update run status constraint with killed\n",
      "INFO  [alembic.runtime.migration] Running upgrade cfd24bdc0731 -> 0a8213491aaa, drop_duplicate_killed_constraint\n",
      "INFO  [alembic.runtime.migration] Running upgrade 0a8213491aaa -> 728d730b5ebd, add registered model tags table\n",
      "INFO  [alembic.runtime.migration] Running upgrade 728d730b5ebd -> 27a6a02d2cf1, add model version tags table\n",
      "INFO  [alembic.runtime.migration] Running upgrade 27a6a02d2cf1 -> 84291f40a231, add run_link to model_version\n",
      "INFO  [alembic.runtime.migration] Running upgrade 84291f40a231 -> a8c4a736bde6, allow nulls for run_id\n",
      "INFO  [alembic.runtime.migration] Running upgrade a8c4a736bde6 -> 39d1c3be5f05, add_is_nan_constraint_for_metrics_tables_if_necessary\n",
      "INFO  [alembic.runtime.migration] Running upgrade 39d1c3be5f05 -> c48cb773bb87, reset_default_value_for_is_nan_in_metrics_table_for_mysql\n",
      "INFO  [alembic.runtime.migration] Running upgrade c48cb773bb87 -> bd07f7e963c5, create index on run_uuid\n",
      "INFO  [alembic.runtime.migration] Running upgrade bd07f7e963c5 -> 0c779009ac13, add deleted_time field to runs table\n",
      "INFO  [alembic.runtime.migration] Running upgrade 0c779009ac13 -> cc1f77228345, change param value length to 500\n",
      "INFO  [alembic.runtime.migration] Running upgrade cc1f77228345 -> 97727af70f4d, Add creation_time and last_update_time to experiments table\n",
      "INFO  [alembic.runtime.migration] Running upgrade 97727af70f4d -> 3500859a5d39, Add Model Aliases table\n",
      "INFO  [alembic.runtime.migration] Context impl SQLiteImpl.\n",
      "INFO  [alembic.runtime.migration] Will assume non-transactional DDL.\n",
      "2023/05/26 14:59:25 INFO mlflow.tracking.fluent: Experiment with name 'nyc-yellow-taxi-prediction' does not exist. Creating a new experiment.\n"
     ]
    },
    {
     "data": {
      "text/plain": [
       "<Experiment: artifact_location='/Users/oshan/GoogleDrives/EEDrive/OshanProjects/20230513_zoomcamp_mlops/lesson2-experiment_tracking/mlruns/1', creation_time=1685093365875, experiment_id='1', last_update_time=1685093365875, lifecycle_stage='active', name='nyc-yellow-taxi-prediction', tags={}>"
      ]
     },
     "execution_count": 6,
     "metadata": {},
     "output_type": "execute_result"
    }
   ],
   "source": [
    "import mlflow\n",
    "\n",
    "mlflow.set_tracking_uri(\"sqlite:///mlflow_backend.db\")\n",
    "mlflow.set_experiment(\"nyc-yellow-taxi-prediction\")"
   ]
  },
  {
   "cell_type": "code",
   "execution_count": 7,
   "id": "8e013caf",
   "metadata": {
    "ExecuteTime": {
     "end_time": "2023-05-26T09:29:54.281346Z",
     "start_time": "2023-05-26T09:29:53.878257Z"
    }
   },
   "outputs": [],
   "source": [
    "class filepaths:\n",
    "    train_data = './data/yellow_tripdata_2022-01.parquet'\n",
    "    val_data = './data/yellow_tripdata_2022-02.parquet'\n",
    "\n",
    "\n",
    "df = pd.read_parquet(filepaths.train_data)\n",
    "\n",
    "\n",
    "def fix_col_names(df):\n",
    "    df = df.rename(\n",
    "        columns={\n",
    "            'tpep_dropoff_datetime': 'lpep_dropoff_datetime',\n",
    "            'tpep_pickup_datetime': 'lpep_pickup_datetime'\n",
    "        })\n",
    "    return df\n",
    "\n",
    "\n",
    "df = fix_col_names(df)"
   ]
  },
  {
   "cell_type": "code",
   "execution_count": 8,
   "id": "f7f3d4ef",
   "metadata": {
    "ExecuteTime": {
     "end_time": "2023-05-26T09:30:00.459365Z",
     "start_time": "2023-05-26T09:29:56.014396Z"
    }
   },
   "outputs": [],
   "source": [
    "df['duration'] = df.lpep_dropoff_datetime - df.lpep_pickup_datetime\n",
    "df.duration = df.duration.apply(lambda td: td.total_seconds() / 60)\n",
    "\n",
    "df = df[(df.duration >= 1) & (df.duration <= 60)]\n",
    "\n",
    "categorical = ['PULocationID', 'DOLocationID']\n",
    "numerical = ['trip_distance']\n",
    "\n",
    "df[categorical] = df[categorical].astype(str)"
   ]
  },
  {
   "cell_type": "code",
   "execution_count": 9,
   "id": "116ff0cc",
   "metadata": {
    "ExecuteTime": {
     "end_time": "2023-05-26T09:30:07.848736Z",
     "start_time": "2023-05-26T09:30:00.460849Z"
    }
   },
   "outputs": [
    {
     "data": {
      "text/plain": [
       "7.001496179375642"
      ]
     },
     "execution_count": 9,
     "metadata": {},
     "output_type": "execute_result"
    }
   ],
   "source": [
    "train_dicts = df[categorical + numerical].to_dict(orient='records')\n",
    "\n",
    "dv = DictVectorizer()\n",
    "X_train = dv.fit_transform(train_dicts)\n",
    "\n",
    "target = 'duration'\n",
    "y_train = df[target].values\n",
    "\n",
    "lr = LinearRegression()\n",
    "lr.fit(X_train, y_train)\n",
    "\n",
    "y_pred = lr.predict(X_train)\n",
    "\n",
    "mean_squared_error(y_train, y_pred, squared=False)"
   ]
  },
  {
   "cell_type": "code",
   "execution_count": 13,
   "id": "05083e13",
   "metadata": {
    "ExecuteTime": {
     "end_time": "2023-05-26T09:34:22.164198Z",
     "start_time": "2023-05-26T09:34:13.658040Z"
    }
   },
   "outputs": [
    {
     "data": {
      "text/plain": [
       "<matplotlib.legend.Legend at 0x28e432a60>"
      ]
     },
     "execution_count": 13,
     "metadata": {},
     "output_type": "execute_result"
    },
    {
     "data": {
      "image/png": "[encoded data removed]",
      "text/plain": [
       "<Figure size 640x480 with 1 Axes>"
      ]
     },
     "metadata": {},
     "output_type": "display_data"
    }
   ],
   "source": [
    "sns.histplot(y_pred,\n",
    "             label='prediction',\n",
    "             kde=True,\n",
    "             stat='density',\n",
    "             kde_kws=dict(cut=3))\n",
    "sns.histplot(y_train,\n",
    "             label='actual',\n",
    "             kde=True,\n",
    "             kde_kws=dict(cut=3),\n",
    "             stat='density')\n",
    "\n",
    "plt.legend()"
   ]
  },
  {
   "cell_type": "code",
   "execution_count": 14,
   "id": "f9e6479e",
   "metadata": {
    "ExecuteTime": {
     "end_time": "2023-05-26T09:35:16.437744Z",
     "start_time": "2023-05-26T09:35:16.428004Z"
    }
   },
   "outputs": [],
   "source": [
    "def read_dataframe(filename):\n",
    "    if filename.endswith('.csv'):\n",
    "        df = pd.read_csv(filename)\n",
    "\n",
    "        df.lpep_dropoff_datetime = pd.to_datetime(df.lpep_dropoff_datetime)\n",
    "        df.lpep_pickup_datetime = pd.to_datetime(df.lpep_pickup_datetime)\n",
    "    elif filename.endswith('.parquet'):\n",
    "        df = pd.read_parquet(filename)\n",
    "\n",
    "    df = fix_col_names(df)\n",
    "    df['duration'] = df.lpep_dropoff_datetime - df.lpep_pickup_datetime\n",
    "    df.duration = df.duration.apply(lambda td: td.total_seconds() / 60)\n",
    "\n",
    "    df = df[(df.duration >= 1) & (df.duration <= 60)]\n",
    "\n",
    "    categorical = ['PULocationID', 'DOLocationID']\n",
    "    df[categorical] = df[categorical].astype(str)\n",
    "\n",
    "    return df"
   ]
  },
  {
   "cell_type": "code",
   "execution_count": 15,
   "id": "8029eba0",
   "metadata": {
    "ExecuteTime": {
     "end_time": "2023-05-26T09:35:28.829242Z",
     "start_time": "2023-05-26T09:35:16.811299Z"
    }
   },
   "outputs": [],
   "source": [
    "df_train = read_dataframe(filepaths.train_data)\n",
    "df_val = read_dataframe(filepaths.val_data)"
   ]
  },
  {
   "cell_type": "code",
   "execution_count": 16,
   "id": "f6f2f0eb",
   "metadata": {
    "ExecuteTime": {
     "end_time": "2023-05-26T09:35:28.835149Z",
     "start_time": "2023-05-26T09:35:28.832159Z"
    }
   },
   "outputs": [
    {
     "data": {
      "text/plain": [
       "(2421440, 2918187)"
      ]
     },
     "execution_count": 16,
     "metadata": {},
     "output_type": "execute_result"
    }
   ],
   "source": [
    "len(df_train), len(df_val)"
   ]
  },
  {
   "cell_type": "code",
   "execution_count": 17,
   "id": "951d51ef",
   "metadata": {
    "ExecuteTime": {
     "end_time": "2023-05-26T09:35:29.532238Z",
     "start_time": "2023-05-26T09:35:28.836242Z"
    }
   },
   "outputs": [],
   "source": [
    "df_train['PU_DO'] = df_train['PULocationID'] + '_' + df_train['DOLocationID']\n",
    "df_val['PU_DO'] = df_val['PULocationID'] + '_' + df_val['DOLocationID']"
   ]
  },
  {
   "cell_type": "code",
   "execution_count": 18,
   "id": "c5cbfc25",
   "metadata": {
    "ExecuteTime": {
     "end_time": "2023-05-26T09:35:39.175177Z",
     "start_time": "2023-05-26T09:35:29.534499Z"
    }
   },
   "outputs": [],
   "source": [
    "categorical = ['PU_DO']  #'PULocationID', 'DOLocationID']\n",
    "numerical = ['trip_distance']\n",
    "\n",
    "dv = DictVectorizer()\n",
    "\n",
    "train_dicts = df_train[categorical + numerical].to_dict(orient='records')\n",
    "X_train = dv.fit_transform(train_dicts)\n",
    "\n",
    "val_dicts = df_val[categorical + numerical].to_dict(orient='records')\n",
    "X_val = dv.transform(val_dicts)"
   ]
  },
  {
   "cell_type": "code",
   "execution_count": 19,
   "id": "1e9fb68b",
   "metadata": {
    "ExecuteTime": {
     "end_time": "2023-05-26T09:35:39.181699Z",
     "start_time": "2023-05-26T09:35:39.177756Z"
    }
   },
   "outputs": [],
   "source": [
    "target = 'duration'\n",
    "y_train = df_train[target].values\n",
    "y_val = df_val[target].values"
   ]
  },
  {
   "cell_type": "code",
   "execution_count": 23,
   "id": "dd5a4e79",
   "metadata": {
    "ExecuteTime": {
     "end_time": "2023-05-26T10:19:17.005573Z",
     "start_time": "2023-05-26T10:17:03.298392Z"
    }
   },
   "outputs": [],
   "source": [
    "with mlflow.start_run():\n",
    "    mlflow.set_tag(\"author\", \"oshan\")\n",
    "    mlflow.log_param('train_path', filepaths.train_data)\n",
    "\n",
    "    alpha = 0.1\n",
    "    mlflow.log_param('alpha', alpha)\n",
    "    lr = Lasso(alpha=alpha)\n",
    "    lr.fit(X_train, y_train)\n",
    "    y_pred = lr.predict(X_val)\n",
    "    rmse = mean_squared_error(y_val, y_pred, squared=False)\n",
    "    mlflow.log_metric('rmse', rmse)\n",
    "    with open('models/lasso_reg.bin', 'wb') as f_out:\n",
    "        pickle.dump((dv, lr), f_out)\n",
    "    mlflow.log_artifact(\"models/lasso_reg.bin\", 'model_pickle')"
   ]
  },
  {
   "cell_type": "code",
   "execution_count": 24,
   "id": "47b0eb9b",
   "metadata": {
    "ExecuteTime": {
     "end_time": "2023-05-26T10:24:31.977395Z",
     "start_time": "2023-05-26T10:24:22.772925Z"
    }
   },
   "outputs": [
    {
     "name": "stderr",
     "output_type": "stream",
     "text": [
      "2023/05/26 15:54:28 INFO mlflow.utils.autologging_utils: Created MLflow autologging run with ID 'bb95bc2c4d804e25879d2c3bb07ae177', which will track hyperparameters, performance metrics, model artifacts, and lineage information for the current sklearn workflow\n",
      "2023/05/26 15:54:31 WARNING mlflow.utils.autologging_utils: MLflow autologging encountered a warning: \"/Users/oshan/opt/miniconda3/envs/course_mlops/lib/python3.9/site-packages/_distutils_hack/__init__.py:33: UserWarning: Setuptools is replacing distutils.\"\n"
     ]
    }
   ],
   "source": [
    "mlflow.sklearn.autolog()\n",
    "\n",
    "lr = LinearRegression()\n",
    "lr.fit(X_train, y_train)\n",
    "y_pred = lr.predict(X_val)\n",
    "rmse = mean_squared_error(y_pred, y_val, squared=False)\n",
    "mlflow.log_metric('rmse_val', rmse)"
   ]
  },
  {
   "cell_type": "code",
   "execution_count": 26,
   "id": "c72f6976",
   "metadata": {
    "ExecuteTime": {
     "end_time": "2023-05-26T10:27:17.570207Z",
     "start_time": "2023-05-26T10:27:17.546438Z"
    }
   },
   "outputs": [],
   "source": [
    "mlflow.end_run()"
   ]
  },
  {
   "attachments": {},
   "cell_type": "markdown",
   "id": "7af4528c",
   "metadata": {},
   "source": [
    "### XGboost and mlflow"
   ]
  },
  {
   "cell_type": "code",
   "execution_count": 38,
   "id": "00b30a17",
   "metadata": {
    "ExecuteTime": {
     "end_time": "2023-05-26T10:55:01.467508Z",
     "start_time": "2023-05-26T10:55:01.459714Z"
    }
   },
   "outputs": [],
   "source": [
    "import xgboost as xgb\n",
    "\n",
    "from hyperopt import fmin, STATUS_OK, hp, tpe, Trials\n",
    "\n",
    "from hyperopt.pyll import scope"
   ]
  },
  {
   "cell_type": "code",
   "execution_count": 39,
   "id": "1e423db2",
   "metadata": {
    "ExecuteTime": {
     "end_time": "2023-05-26T10:55:01.776587Z",
     "start_time": "2023-05-26T10:55:01.613734Z"
    }
   },
   "outputs": [],
   "source": [
    "train = xgb.DMatrix(X_train, y_train)\n",
    "valid = xgb.DMatrix(X_val, y_val)"
   ]
  },
  {
   "cell_type": "code",
   "execution_count": 40,
   "id": "89c19f01",
   "metadata": {
    "ExecuteTime": {
     "end_time": "2023-05-26T10:55:01.781114Z",
     "start_time": "2023-05-26T10:55:01.778150Z"
    }
   },
   "outputs": [],
   "source": [
    "def objective(params):\n",
    "\n",
    "    with mlflow.start_run():\n",
    "        mlflow.set_tag(\"model\", \"xgboost\")\n",
    "        mlflow.log_params(params)\n",
    "        booster = xgb.train(params=params,\n",
    "                            dtrain=train,\n",
    "                            num_boost_round=50,\n",
    "                            evals=[(valid, \"validation\")],\n",
    "                            early_stopping_rounds=5)\n",
    "\n",
    "        y_pred = booster.predict(valid)\n",
    "        rmse = mean_squared_error(y_pred, y_val, squared=False)\n",
    "        mlflow.log_metric(\"rmse\", rmse)\n",
    "    return {'loss': rmse, 'status': STATUS_OK}"
   ]
  },
  {
   "cell_type": "code",
   "execution_count": 41,
   "id": "145f0be0",
   "metadata": {
    "ExecuteTime": {
     "end_time": "2023-05-26T10:55:01.898431Z",
     "start_time": "2023-05-26T10:55:01.895818Z"
    }
   },
   "outputs": [],
   "source": [
    "search_space = {\n",
    "    'max_depth': scope.int(hp.quniform('max_depth', 4, 30, 1)),\n",
    "    'learning_rate': hp.loguniform('learning_rate', -3, 0),\n",
    "    'reg_alpha': hp.loguniform('reg_alpha', -5, -1),\n",
    "    'reg_lambda': hp.loguniform('reg_lambda', -6, -1),\n",
    "    'min_child_weight': hp.loguniform('min_child_weight', -1, 3),\n",
    "    \n",
    "    'objective': 'reg:squarederror',\n",
    "    'seed': 42\n",
    "}"
   ]
  },
  {
   "cell_type": "code",
   "execution_count": 42,
   "id": "56f16d28",
   "metadata": {
    "ExecuteTime": {
     "end_time": "2023-05-26T11:03:51.953739Z",
     "start_time": "2023-05-26T10:55:02.448078Z"
    },
    "collapsed": true
   },
   "outputs": [
    {
     "name": "stdout",
     "output_type": "stream",
     "text": [
      "[0]\tvalidation-rmse:15.73929                                                \n",
      "[1]\tvalidation-rmse:15.09309                                                \n",
      "[2]\tvalidation-rmse:14.48240                                                \n",
      "[3]\tvalidation-rmse:13.90578                                                \n",
      "[4]\tvalidation-rmse:13.36119                                                \n",
      "[5]\tvalidation-rmse:12.84733                                                \n",
      "[6]\tvalidation-rmse:12.36274                                                \n",
      "[7]\tvalidation-rmse:11.90565                                                \n",
      "[8]\tvalidation-rmse:11.47513                                                \n",
      "[9]\tvalidation-rmse:11.06953                                                \n",
      "[10]\tvalidation-rmse:10.68782                                               \n",
      "[11]\tvalidation-rmse:10.32869                                               \n",
      "[12]\tvalidation-rmse:9.99094                                                \n",
      "[13]\tvalidation-rmse:9.67328                                                \n",
      "[14]\tvalidation-rmse:9.37528                                                \n",
      "[15]\tvalidation-rmse:9.09551                                                \n",
      "[16]\tvalidation-rmse:8.83288                                                \n",
      "[17]\tvalidation-rmse:8.58687                                                \n",
      "[18]\tvalidation-rmse:8.35625                                                \n",
      "[19]\tvalidation-rmse:8.14036                                                \n",
      "[20]\tvalidation-rmse:7.93835                                                \n",
      "[21]\tvalidation-rmse:7.74923                                                \n",
      "[22]\tvalidation-rmse:7.57232                                                \n",
      "[23]\tvalidation-rmse:7.40724                                                \n",
      "[24]\tvalidation-rmse:7.25312                                                \n",
      "[25]\tvalidation-rmse:7.10892                                                \n",
      "[26]\tvalidation-rmse:6.97473                                                \n",
      "[27]\tvalidation-rmse:6.84945                                                \n",
      "[28]\tvalidation-rmse:6.73255                                                \n",
      "[29]\tvalidation-rmse:6.62365                                                \n",
      "[30]\tvalidation-rmse:6.52196                                                \n",
      "[31]\tvalidation-rmse:6.42724                                                \n",
      "[32]\tvalidation-rmse:6.33901                                                \n",
      "[33]\tvalidation-rmse:6.25676                                                \n",
      "[34]\tvalidation-rmse:6.18011                                                \n",
      "[35]\tvalidation-rmse:6.10888                                                \n",
      "[36]\tvalidation-rmse:6.04247                                                \n",
      "[37]\tvalidation-rmse:5.98038                                                \n",
      "[38]\tvalidation-rmse:5.92264                                                \n",
      "[39]\tvalidation-rmse:5.86892                                                \n",
      "[40]\tvalidation-rmse:5.81885                                                \n",
      "[41]\tvalidation-rmse:5.77230                                                \n",
      "[42]\tvalidation-rmse:5.72871                                                \n",
      "[43]\tvalidation-rmse:5.68808                                                \n",
      "[44]\tvalidation-rmse:5.65031                                                \n",
      "[45]\tvalidation-rmse:5.61502                                                \n",
      "[46]\tvalidation-rmse:5.58213                                                \n",
      "[47]\tvalidation-rmse:5.55140                                                \n",
      "[48]\tvalidation-rmse:5.52283                                                \n",
      "[49]\tvalidation-rmse:5.49595                                                \n",
      "[0]\tvalidation-rmse:11.98470                                                \n",
      "[1]\tvalidation-rmse:9.19762                                                 \n",
      "[2]\tvalidation-rmse:7.50605                                                 \n",
      "[3]\tvalidation-rmse:6.51257                                                 \n",
      "[4]\tvalidation-rmse:5.94098                                                 \n",
      "[5]\tvalidation-rmse:5.61353                                                 \n",
      "[6]\tvalidation-rmse:5.42372                                                 \n",
      "[7]\tvalidation-rmse:5.30804                                                 \n",
      "[8]\tvalidation-rmse:5.23726                                                 \n",
      "[9]\tvalidation-rmse:5.19232                                                 \n",
      "[10]\tvalidation-rmse:5.16178                                                \n",
      "[11]\tvalidation-rmse:5.14260                                                \n",
      "[12]\tvalidation-rmse:5.12911                                                \n",
      "[13]\tvalidation-rmse:5.12142                                                \n",
      "[14]\tvalidation-rmse:5.11591                                                \n",
      "[15]\tvalidation-rmse:5.10880                                                \n",
      "[16]\tvalidation-rmse:5.10581                                                \n",
      "[17]\tvalidation-rmse:5.10246                                                \n",
      "[18]\tvalidation-rmse:5.10021                                                \n",
      "[19]\tvalidation-rmse:5.09671                                                \n",
      "[20]\tvalidation-rmse:5.09514                                                \n",
      "[21]\tvalidation-rmse:5.09320                                                \n",
      "[22]\tvalidation-rmse:5.09160                                                \n",
      "[23]\tvalidation-rmse:5.08979                                                \n",
      "[24]\tvalidation-rmse:5.08842                                                \n",
      "[25]\tvalidation-rmse:5.08677                                                \n",
      "[26]\tvalidation-rmse:5.08488                                                \n",
      "[27]\tvalidation-rmse:5.08322                                                \n",
      "[28]\tvalidation-rmse:5.08157                                                \n",
      "[29]\tvalidation-rmse:5.07881                                                \n",
      "[30]\tvalidation-rmse:5.07738                                                \n",
      "[31]\tvalidation-rmse:5.07626                                                \n",
      "[32]\tvalidation-rmse:5.07482                                                \n",
      "[33]\tvalidation-rmse:5.07353                                                \n",
      "[34]\tvalidation-rmse:5.07204                                                \n",
      "[35]\tvalidation-rmse:5.07096                                                \n",
      "[36]\tvalidation-rmse:5.06976                                                \n",
      "[37]\tvalidation-rmse:5.06857                                                \n",
      "[38]\tvalidation-rmse:5.06742                                                \n",
      "[39]\tvalidation-rmse:5.06614                                                \n",
      "[40]\tvalidation-rmse:5.06389                                                \n",
      "[41]\tvalidation-rmse:5.06252                                                \n",
      "[42]\tvalidation-rmse:5.06163                                                \n",
      "[43]\tvalidation-rmse:5.06039                                                \n",
      "[44]\tvalidation-rmse:5.05906                                                \n",
      "[45]\tvalidation-rmse:5.05800                                                \n",
      "[46]\tvalidation-rmse:5.05682                                                \n",
      "[47]\tvalidation-rmse:5.05581                                                \n",
      "[48]\tvalidation-rmse:5.05482                                                \n",
      "[49]\tvalidation-rmse:5.05373                                                \n",
      "[0]\tvalidation-rmse:10.65001                                                \n",
      "[1]\tvalidation-rmse:7.74895                                                 \n",
      "[2]\tvalidation-rmse:6.39256                                                 \n",
      "[3]\tvalidation-rmse:5.78455                                                 \n",
      "[4]\tvalidation-rmse:5.50779                                                 \n",
      "[5]\tvalidation-rmse:5.37638                                                 \n"
     ]
    },
    {
     "name": "stdout",
     "output_type": "stream",
     "text": [
      "[6]\tvalidation-rmse:5.30966                                                 \n",
      "[7]\tvalidation-rmse:5.27323                                                 \n",
      "[8]\tvalidation-rmse:5.25754                                                 \n",
      "[9]\tvalidation-rmse:5.24439                                                 \n",
      "[10]\tvalidation-rmse:5.23817                                                \n",
      "[11]\tvalidation-rmse:5.23377                                                \n",
      "[12]\tvalidation-rmse:5.23068                                                \n",
      "[13]\tvalidation-rmse:5.22411                                                \n",
      "[14]\tvalidation-rmse:5.22165                                                \n",
      "[15]\tvalidation-rmse:5.22018                                                \n",
      "[16]\tvalidation-rmse:5.21796                                                \n",
      "[17]\tvalidation-rmse:5.21638                                                \n",
      "[18]\tvalidation-rmse:5.21464                                                \n",
      "[19]\tvalidation-rmse:5.21010                                                \n",
      "[20]\tvalidation-rmse:5.20868                                                \n",
      "[21]\tvalidation-rmse:5.20731                                                \n",
      "[22]\tvalidation-rmse:5.20578                                                \n",
      "[23]\tvalidation-rmse:5.20427                                                \n",
      "[24]\tvalidation-rmse:5.20274                                                \n",
      "[25]\tvalidation-rmse:5.20123                                                \n",
      "[26]\tvalidation-rmse:5.19708                                                \n",
      "[27]\tvalidation-rmse:5.19570                                                \n",
      "[28]\tvalidation-rmse:5.19418                                                \n",
      "[29]\tvalidation-rmse:5.19277                                                \n",
      "[30]\tvalidation-rmse:5.19121                                                \n",
      "[31]\tvalidation-rmse:5.18994                                                \n",
      "[32]\tvalidation-rmse:5.18871                                                \n",
      "[33]\tvalidation-rmse:5.18729                                                \n",
      "[34]\tvalidation-rmse:5.18634                                                \n",
      "[35]\tvalidation-rmse:5.18489                                                \n",
      "[36]\tvalidation-rmse:5.18349                                                \n",
      "[37]\tvalidation-rmse:5.18236                                                \n",
      "[38]\tvalidation-rmse:5.18066                                                \n",
      "[39]\tvalidation-rmse:5.17720                                                \n",
      "[40]\tvalidation-rmse:5.17607                                                \n",
      "[41]\tvalidation-rmse:5.17472                                                \n",
      "[42]\tvalidation-rmse:5.17357                                                \n",
      "[43]\tvalidation-rmse:5.17228                                                \n",
      "[44]\tvalidation-rmse:5.17112                                                \n",
      "[45]\tvalidation-rmse:5.16967                                                \n",
      "[46]\tvalidation-rmse:5.16851                                                \n",
      "[47]\tvalidation-rmse:5.16710                                                \n",
      "[48]\tvalidation-rmse:5.16582                                                \n",
      "[49]\tvalidation-rmse:5.16465                                                \n",
      "[0]\tvalidation-rmse:15.54926                                                \n",
      "[1]\tvalidation-rmse:14.73826                                                \n",
      "[2]\tvalidation-rmse:13.98516                                                \n",
      "[3]\tvalidation-rmse:13.28704                                                \n",
      "[4]\tvalidation-rmse:12.63914                                                \n",
      "[5]\tvalidation-rmse:12.03921                                                \n",
      "[6]\tvalidation-rmse:11.48440                                                \n",
      "[7]\tvalidation-rmse:10.97084                                                \n",
      "[8]\tvalidation-rmse:10.49699                                                \n",
      "[9]\tvalidation-rmse:10.05972                                                \n",
      "[10]\tvalidation-rmse:9.65689                                                \n",
      "[11]\tvalidation-rmse:9.28591                                                \n",
      "[12]\tvalidation-rmse:8.94465                                                \n",
      "[13]\tvalidation-rmse:8.63146                                                \n",
      "[14]\tvalidation-rmse:8.34373                                                \n",
      "[15]\tvalidation-rmse:8.08060                                                \n",
      "[16]\tvalidation-rmse:7.83924                                                \n",
      "[17]\tvalidation-rmse:7.61814                                                \n",
      "[18]\tvalidation-rmse:7.41643                                                \n",
      "[19]\tvalidation-rmse:7.23224                                                \n",
      "[20]\tvalidation-rmse:7.06363                                                \n",
      "[21]\tvalidation-rmse:6.91024                                                \n",
      "[22]\tvalidation-rmse:6.77042                                                \n",
      "[23]\tvalidation-rmse:6.64296                                                \n",
      "[24]\tvalidation-rmse:6.52651                                                \n",
      "[25]\tvalidation-rmse:6.42092                                                \n",
      "[26]\tvalidation-rmse:6.32446                                                \n",
      "[27]\tvalidation-rmse:6.23693                                                \n",
      "[28]\tvalidation-rmse:6.15682                                                \n",
      "[29]\tvalidation-rmse:6.08421                                                \n",
      "[30]\tvalidation-rmse:6.01814                                                \n",
      "[31]\tvalidation-rmse:5.95785                                                \n",
      "[32]\tvalidation-rmse:5.90291                                                \n",
      "[33]\tvalidation-rmse:5.85299                                                \n",
      "[34]\tvalidation-rmse:5.80749                                                \n",
      "[35]\tvalidation-rmse:5.76601                                                \n",
      "[36]\tvalidation-rmse:5.72815                                                \n",
      "[37]\tvalidation-rmse:5.69372                                                \n",
      "[38]\tvalidation-rmse:5.66213                                                \n",
      "[39]\tvalidation-rmse:5.63310                                                \n",
      "[40]\tvalidation-rmse:5.60633                                                \n",
      "[41]\tvalidation-rmse:5.58205                                                \n",
      "[42]\tvalidation-rmse:5.55977                                                \n",
      "[43]\tvalidation-rmse:5.53919                                                \n",
      "[44]\tvalidation-rmse:5.52017                                                \n",
      "[45]\tvalidation-rmse:5.50283                                                \n",
      "[46]\tvalidation-rmse:5.48680                                                \n",
      "[47]\tvalidation-rmse:5.47207                                                \n",
      "[48]\tvalidation-rmse:5.45861                                                \n",
      "[49]\tvalidation-rmse:5.44601                                                \n",
      "[0]\tvalidation-rmse:14.94426                                                \n",
      "[1]\tvalidation-rmse:13.64306                                                \n",
      "[2]\tvalidation-rmse:12.50031                                                \n",
      "[3]\tvalidation-rmse:11.49907                                                \n",
      "[4]\tvalidation-rmse:10.62446                                                \n",
      "[5]\tvalidation-rmse:9.86195                                                 \n",
      "[6]\tvalidation-rmse:9.19976                                                 \n",
      "[7]\tvalidation-rmse:8.62595                                                 \n",
      "[8]\tvalidation-rmse:8.13107                                                 \n",
      "[9]\tvalidation-rmse:7.70470                                                 \n",
      "[10]\tvalidation-rmse:7.33863                                                \n",
      "[11]\tvalidation-rmse:7.02542                                                \n"
     ]
    },
    {
     "name": "stdout",
     "output_type": "stream",
     "text": [
      "[12]\tvalidation-rmse:6.75767                                                \n",
      "[13]\tvalidation-rmse:6.52898                                                \n",
      "[14]\tvalidation-rmse:6.33426                                                \n",
      "[15]\tvalidation-rmse:6.16843                                                \n",
      "[16]\tvalidation-rmse:6.02710                                                \n",
      "[17]\tvalidation-rmse:5.90701                                                \n",
      "[18]\tvalidation-rmse:5.80476                                                \n",
      "[19]\tvalidation-rmse:5.71758                                                \n",
      "[20]\tvalidation-rmse:5.64317                                                \n",
      "[21]\tvalidation-rmse:5.57929                                                \n",
      "[22]\tvalidation-rmse:5.52428                                                \n",
      "[23]\tvalidation-rmse:5.47680                                                \n",
      "[24]\tvalidation-rmse:5.43590                                                \n",
      "[25]\tvalidation-rmse:5.40035                                                \n",
      "[26]\tvalidation-rmse:5.36994                                                \n",
      "[27]\tvalidation-rmse:5.34339                                                \n",
      "[28]\tvalidation-rmse:5.32069                                                \n",
      "[29]\tvalidation-rmse:5.30034                                                \n",
      "[30]\tvalidation-rmse:5.28248                                                \n",
      "[31]\tvalidation-rmse:5.26656                                                \n",
      "[32]\tvalidation-rmse:5.25296                                                \n",
      "[33]\tvalidation-rmse:5.24082                                                \n",
      "[34]\tvalidation-rmse:5.23012                                                \n",
      "[35]\tvalidation-rmse:5.22054                                                \n",
      "[36]\tvalidation-rmse:5.21181                                                \n",
      "[37]\tvalidation-rmse:5.20441                                                \n",
      "[38]\tvalidation-rmse:5.19754                                                \n",
      "[39]\tvalidation-rmse:5.19203                                                \n",
      "[40]\tvalidation-rmse:5.18690                                                \n",
      "[41]\tvalidation-rmse:5.18237                                                \n",
      "[42]\tvalidation-rmse:5.17819                                                \n",
      "[43]\tvalidation-rmse:5.17452                                                \n",
      "[44]\tvalidation-rmse:5.17109                                                \n",
      "[45]\tvalidation-rmse:5.16866                                                \n",
      "[46]\tvalidation-rmse:5.16597                                                \n",
      "[47]\tvalidation-rmse:5.16411                                                \n",
      "[48]\tvalidation-rmse:5.16171                                                \n",
      "[49]\tvalidation-rmse:5.16027                                                \n",
      "[0]\tvalidation-rmse:10.87011                                                \n",
      "[1]\tvalidation-rmse:7.93846                                                 \n",
      "[2]\tvalidation-rmse:6.48339                                                 \n",
      "[3]\tvalidation-rmse:5.79137                                                 \n",
      "[4]\tvalidation-rmse:5.46143                                                 \n",
      "[5]\tvalidation-rmse:5.29769                                                 \n",
      "[6]\tvalidation-rmse:5.21256                                                 \n",
      "[7]\tvalidation-rmse:5.16422                                                 \n",
      "[8]\tvalidation-rmse:5.13529                                                 \n",
      "[9]\tvalidation-rmse:5.11881                                                 \n",
      "[10]\tvalidation-rmse:5.10868                                                \n",
      "[11]\tvalidation-rmse:5.10300                                                \n",
      "[12]\tvalidation-rmse:5.09951                                                \n",
      "[13]\tvalidation-rmse:5.09648                                                \n",
      "[14]\tvalidation-rmse:5.09367                                                \n",
      "[15]\tvalidation-rmse:5.08867                                                \n",
      "[16]\tvalidation-rmse:5.08682                                                \n",
      "[17]\tvalidation-rmse:5.08463                                                \n",
      "[18]\tvalidation-rmse:5.08129                                                \n",
      "[19]\tvalidation-rmse:5.07960                                                \n",
      "[20]\tvalidation-rmse:5.07764                                                \n",
      "[21]\tvalidation-rmse:5.07589                                                \n",
      "[22]\tvalidation-rmse:5.07380                                                \n",
      "[23]\tvalidation-rmse:5.07238                                                \n",
      "[24]\tvalidation-rmse:5.07087                                                \n",
      "[25]\tvalidation-rmse:5.06879                                                \n",
      "[26]\tvalidation-rmse:5.06727                                                \n",
      "[27]\tvalidation-rmse:5.06567                                                \n",
      "[28]\tvalidation-rmse:5.06407                                                \n",
      "[29]\tvalidation-rmse:5.06102                                                \n",
      "[30]\tvalidation-rmse:5.05975                                                \n",
      "[31]\tvalidation-rmse:5.05826                                                \n",
      "[32]\tvalidation-rmse:5.05710                                                \n",
      "[33]\tvalidation-rmse:5.05592                                                \n",
      "[34]\tvalidation-rmse:5.05468                                                \n",
      "[35]\tvalidation-rmse:5.05339                                                \n",
      "[36]\tvalidation-rmse:5.05203                                                \n",
      "[37]\tvalidation-rmse:5.05055                                                \n",
      "[38]\tvalidation-rmse:5.04947                                                \n",
      "[39]\tvalidation-rmse:5.04833                                                \n",
      "[40]\tvalidation-rmse:5.04739                                                \n",
      "[41]\tvalidation-rmse:5.04585                                                \n",
      "[42]\tvalidation-rmse:5.04442                                                \n",
      "[43]\tvalidation-rmse:5.04288                                                \n",
      "[44]\tvalidation-rmse:5.04067                                                \n",
      "[45]\tvalidation-rmse:5.03985                                                \n",
      "[46]\tvalidation-rmse:5.03892                                                \n",
      "[47]\tvalidation-rmse:5.03791                                                \n",
      "[48]\tvalidation-rmse:5.03696                                                \n",
      "[49]\tvalidation-rmse:5.03586                                                \n",
      "[0]\tvalidation-rmse:13.18749                                                \n",
      "[1]\tvalidation-rmse:10.81657                                                \n",
      "[2]\tvalidation-rmse:9.10560                                                 \n",
      "[3]\tvalidation-rmse:7.88982                                                 \n",
      "[4]\tvalidation-rmse:7.04072                                                 \n",
      "[5]\tvalidation-rmse:6.45494                                                 \n",
      "[6]\tvalidation-rmse:6.05369                                                 \n",
      "[7]\tvalidation-rmse:5.77961                                                 \n",
      "[8]\tvalidation-rmse:5.59235                                                 \n",
      "[9]\tvalidation-rmse:5.46141                                                 \n",
      "[10]\tvalidation-rmse:5.36967                                                \n",
      "[11]\tvalidation-rmse:5.30451                                                \n",
      "[12]\tvalidation-rmse:5.25735                                                \n",
      "[13]\tvalidation-rmse:5.22294                                                \n",
      "[14]\tvalidation-rmse:5.19634                                                \n",
      "[15]\tvalidation-rmse:5.17683                                                \n",
      "[16]\tvalidation-rmse:5.16116                                                \n",
      "[17]\tvalidation-rmse:5.15047                                                \n"
     ]
    },
    {
     "name": "stdout",
     "output_type": "stream",
     "text": [
      "[18]\tvalidation-rmse:5.14104                                                \n",
      "[19]\tvalidation-rmse:5.13466                                                \n",
      "[20]\tvalidation-rmse:5.13026                                                \n",
      "[21]\tvalidation-rmse:5.12672                                                \n",
      "[22]\tvalidation-rmse:5.12362                                                \n",
      "[23]\tvalidation-rmse:5.12141                                                \n",
      "[24]\tvalidation-rmse:5.11762                                                \n",
      "[25]\tvalidation-rmse:5.11575                                                \n",
      "[26]\tvalidation-rmse:5.11395                                                \n",
      "[27]\tvalidation-rmse:5.11126                                                \n",
      "[28]\tvalidation-rmse:5.10986                                                \n",
      "[29]\tvalidation-rmse:5.10852                                                \n",
      "[30]\tvalidation-rmse:5.10716                                                \n",
      "[31]\tvalidation-rmse:5.10593                                                \n",
      "[32]\tvalidation-rmse:5.10486                                                \n",
      "[33]\tvalidation-rmse:5.10370                                                \n",
      "[34]\tvalidation-rmse:5.10240                                                \n",
      "[35]\tvalidation-rmse:5.10106                                                \n",
      "[36]\tvalidation-rmse:5.09929                                                \n",
      "[37]\tvalidation-rmse:5.09832                                                \n",
      "[38]\tvalidation-rmse:5.09723                                                \n",
      "[39]\tvalidation-rmse:5.09595                                                \n",
      "[40]\tvalidation-rmse:5.09493                                                \n",
      "[41]\tvalidation-rmse:5.09277                                                \n",
      "[42]\tvalidation-rmse:5.09196                                                \n",
      "[43]\tvalidation-rmse:5.09100                                                \n",
      "[44]\tvalidation-rmse:5.09013                                                \n",
      "[45]\tvalidation-rmse:5.08917                                                \n",
      "[46]\tvalidation-rmse:5.08827                                                \n",
      "[47]\tvalidation-rmse:5.08741                                                \n",
      "[48]\tvalidation-rmse:5.08656                                                \n",
      "[49]\tvalidation-rmse:5.08542                                                \n",
      "[0]\tvalidation-rmse:12.27811                                                \n",
      "[1]\tvalidation-rmse:9.56498                                                 \n",
      "[2]\tvalidation-rmse:7.83727                                                 \n",
      "[3]\tvalidation-rmse:6.76893                                                 \n",
      "[4]\tvalidation-rmse:6.12306                                                 \n",
      "[5]\tvalidation-rmse:5.73421                                                 \n",
      "[6]\tvalidation-rmse:5.49884                                                 \n",
      "[7]\tvalidation-rmse:5.35376                                                 \n",
      "[8]\tvalidation-rmse:5.26075                                                 \n",
      "[9]\tvalidation-rmse:5.20189                                                 \n",
      "[10]\tvalidation-rmse:5.16296                                                \n",
      "[11]\tvalidation-rmse:5.13563                                                \n",
      "[12]\tvalidation-rmse:5.11571                                                \n",
      "[13]\tvalidation-rmse:5.10170                                                \n",
      "[14]\tvalidation-rmse:5.09161                                                \n",
      "[15]\tvalidation-rmse:5.08600                                                \n",
      "[16]\tvalidation-rmse:5.08128                                                \n",
      "[17]\tvalidation-rmse:5.07791                                                \n",
      "[18]\tvalidation-rmse:5.07489                                                \n",
      "[19]\tvalidation-rmse:5.07151                                                \n",
      "[20]\tvalidation-rmse:5.06952                                                \n",
      "[21]\tvalidation-rmse:5.06758                                                \n",
      "[22]\tvalidation-rmse:5.06593                                                \n",
      "[23]\tvalidation-rmse:5.06377                                                \n",
      "[24]\tvalidation-rmse:5.06240                                                \n",
      "[25]\tvalidation-rmse:5.06102                                                \n",
      "[26]\tvalidation-rmse:5.05968                                                \n",
      "[27]\tvalidation-rmse:5.05840                                                \n",
      "[28]\tvalidation-rmse:5.05715                                                \n",
      "[29]\tvalidation-rmse:5.05582                                                \n",
      "[30]\tvalidation-rmse:5.05457                                                \n",
      "[31]\tvalidation-rmse:5.05353                                                \n",
      "[32]\tvalidation-rmse:5.05230                                                \n",
      "[33]\tvalidation-rmse:5.05117                                                \n",
      "[34]\tvalidation-rmse:5.05015                                                \n",
      "[35]\tvalidation-rmse:5.04875                                                \n",
      "[36]\tvalidation-rmse:5.04770                                                \n",
      "[37]\tvalidation-rmse:5.04512                                                \n",
      "[38]\tvalidation-rmse:5.04415                                                \n",
      "[39]\tvalidation-rmse:5.04313                                                \n",
      "[40]\tvalidation-rmse:5.04171                                                \n",
      "[41]\tvalidation-rmse:5.04060                                                \n",
      "[42]\tvalidation-rmse:5.03949                                                \n",
      "[43]\tvalidation-rmse:5.03842                                                \n",
      "[44]\tvalidation-rmse:5.03588                                                \n",
      "[45]\tvalidation-rmse:5.03487                                                \n",
      "[46]\tvalidation-rmse:5.03390                                                \n",
      "[47]\tvalidation-rmse:5.03291                                                \n",
      "[48]\tvalidation-rmse:5.03203                                                \n",
      "[49]\tvalidation-rmse:5.03127                                                \n",
      "[0]\tvalidation-rmse:9.83333                                                 \n",
      "[1]\tvalidation-rmse:6.99494                                                 \n",
      "[2]\tvalidation-rmse:5.87765                                                 \n",
      "[3]\tvalidation-rmse:5.44818                                                 \n",
      "[4]\tvalidation-rmse:5.27241                                                 \n",
      "[5]\tvalidation-rmse:5.19315                                                 \n",
      "[6]\tvalidation-rmse:5.15445                                                 \n",
      "[7]\tvalidation-rmse:5.13426                                                 \n",
      "[8]\tvalidation-rmse:5.12589                                                 \n",
      "[9]\tvalidation-rmse:5.12038                                                 \n",
      "[10]\tvalidation-rmse:5.11151                                                \n",
      "[11]\tvalidation-rmse:5.10845                                                \n",
      "[12]\tvalidation-rmse:5.10597                                                \n",
      "[13]\tvalidation-rmse:5.10381                                                \n",
      "[14]\tvalidation-rmse:5.10163                                                \n",
      "[15]\tvalidation-rmse:5.09946                                                \n",
      "[16]\tvalidation-rmse:5.09764                                                \n",
      "[17]\tvalidation-rmse:5.09543                                                \n",
      "[18]\tvalidation-rmse:5.09101                                                \n",
      "[19]\tvalidation-rmse:5.08890                                                \n",
      "[20]\tvalidation-rmse:5.08674                                                \n",
      "[21]\tvalidation-rmse:5.08497                                                \n",
      "[22]\tvalidation-rmse:5.08290                                                \n",
      "[23]\tvalidation-rmse:5.08109                                                \n"
     ]
    },
    {
     "name": "stdout",
     "output_type": "stream",
     "text": [
      "[24]\tvalidation-rmse:5.07921                                                \n",
      "[25]\tvalidation-rmse:5.07716                                                \n",
      "[26]\tvalidation-rmse:5.07544                                                \n",
      "[27]\tvalidation-rmse:5.07062                                                \n",
      "[28]\tvalidation-rmse:5.06930                                                \n",
      "[29]\tvalidation-rmse:5.06775                                                \n",
      "[30]\tvalidation-rmse:5.06581                                                \n",
      "[31]\tvalidation-rmse:5.06423                                                \n",
      "[32]\tvalidation-rmse:5.06261                                                \n",
      "[33]\tvalidation-rmse:5.06057                                                \n",
      "[34]\tvalidation-rmse:5.05876                                                \n",
      "[35]\tvalidation-rmse:5.05721                                                \n",
      "[36]\tvalidation-rmse:5.05582                                                \n",
      "[37]\tvalidation-rmse:5.05404                                                \n",
      "[38]\tvalidation-rmse:5.05272                                                \n",
      "[39]\tvalidation-rmse:5.05113                                                \n",
      "[40]\tvalidation-rmse:5.04980                                                \n",
      "[41]\tvalidation-rmse:5.04675                                                \n",
      "[42]\tvalidation-rmse:5.04568                                                \n",
      "[43]\tvalidation-rmse:5.04451                                                \n",
      "[44]\tvalidation-rmse:5.04341                                                \n",
      "[45]\tvalidation-rmse:5.04215                                                \n",
      "[46]\tvalidation-rmse:5.03847                                                \n",
      "[47]\tvalidation-rmse:5.03719                                                \n",
      "[48]\tvalidation-rmse:5.03595                                                \n",
      "[49]\tvalidation-rmse:5.03486                                                \n",
      "[0]\tvalidation-rmse:6.87251                                                 \n",
      "[1]\tvalidation-rmse:5.40966                                                 \n",
      "[2]\tvalidation-rmse:5.17960                                                 \n",
      "[3]\tvalidation-rmse:5.12894                                                 \n",
      "[4]\tvalidation-rmse:5.11513                                                 \n",
      "[5]\tvalidation-rmse:5.10444                                                 \n",
      "[6]\tvalidation-rmse:5.09902                                                 \n",
      "[7]\tvalidation-rmse:5.09343                                                 \n",
      "[8]\tvalidation-rmse:5.08943                                                 \n",
      "[9]\tvalidation-rmse:5.08536                                                 \n",
      "[10]\tvalidation-rmse:5.08095                                                \n",
      "[11]\tvalidation-rmse:5.07227                                                \n",
      "[12]\tvalidation-rmse:5.06848                                                \n",
      "[13]\tvalidation-rmse:5.06503                                                \n",
      "[14]\tvalidation-rmse:5.06181                                                \n",
      "[15]\tvalidation-rmse:5.05887                                                \n",
      "[16]\tvalidation-rmse:5.05537                                                \n",
      "[17]\tvalidation-rmse:5.05256                                                \n",
      "[18]\tvalidation-rmse:5.04702                                                \n",
      "[19]\tvalidation-rmse:5.04474                                                \n",
      "[20]\tvalidation-rmse:5.04166                                                \n",
      "[21]\tvalidation-rmse:5.03915                                                \n",
      "[22]\tvalidation-rmse:5.03570                                                \n",
      "[23]\tvalidation-rmse:5.03267                                                \n",
      "[24]\tvalidation-rmse:5.02993                                                \n",
      "[25]\tvalidation-rmse:5.02741                                                \n",
      "[26]\tvalidation-rmse:5.02541                                                \n",
      "[27]\tvalidation-rmse:5.02353                                                \n",
      "[28]\tvalidation-rmse:5.02138                                                \n",
      "[29]\tvalidation-rmse:5.01953                                                \n",
      "[30]\tvalidation-rmse:5.01810                                                \n",
      "[31]\tvalidation-rmse:5.01614                                                \n",
      "[32]\tvalidation-rmse:5.01388                                                \n",
      "[33]\tvalidation-rmse:5.01189                                                \n",
      "[34]\tvalidation-rmse:5.01014                                                \n",
      "[35]\tvalidation-rmse:5.00858                                                \n",
      "[36]\tvalidation-rmse:5.00702                                                \n",
      "[37]\tvalidation-rmse:5.00467                                                \n",
      "[38]\tvalidation-rmse:5.00261                                                \n",
      "[39]\tvalidation-rmse:5.00060                                                \n",
      "[40]\tvalidation-rmse:4.99902                                                \n",
      "[41]\tvalidation-rmse:4.99749                                                \n",
      "[42]\tvalidation-rmse:4.99609                                                \n",
      "[43]\tvalidation-rmse:4.99420                                                \n",
      "[44]\tvalidation-rmse:4.99282                                                \n",
      "[45]\tvalidation-rmse:4.99173                                                \n",
      "[46]\tvalidation-rmse:4.99030                                                \n",
      "[47]\tvalidation-rmse:4.98877                                                \n",
      "[48]\tvalidation-rmse:4.98545                                                \n",
      "[49]\tvalidation-rmse:4.98433                                                \n",
      "100%|█████| 10/10 [08:49<00:00, 52.95s/trial, best loss: 4.9843345834595585]\n"
     ]
    }
   ],
   "source": [
    "best_result = fmin(fn=objective,\n",
    "                   space=search_space,\n",
    "                   algo=tpe.suggest,\n",
    "                   max_evals=10,\n",
    "                   trials=Trials())"
   ]
  },
  {
   "cell_type": "code",
   "execution_count": 43,
   "id": "647fd190",
   "metadata": {
    "ExecuteTime": {
     "end_time": "2023-05-26T11:33:51.351722Z",
     "start_time": "2023-05-26T11:33:51.331605Z"
    }
   },
   "outputs": [
    {
     "data": {
      "text/plain": [
       "{'learning_rate': 0.7641768942747523,\n",
       " 'max_depth': 28.0,\n",
       " 'min_child_weight': 3.0944429342261293,\n",
       " 'req_alpha': 0.014551278531257265,\n",
       " 'req_lambda': 0.006226148382478437}"
      ]
     },
     "execution_count": 43,
     "metadata": {},
     "output_type": "execute_result"
    }
   ],
   "source": [
    "best_result"
   ]
  },
  {
   "cell_type": "code",
   "execution_count": 48,
   "id": "2558f7b4",
   "metadata": {
    "ExecuteTime": {
     "end_time": "2023-05-26T11:39:46.007030Z",
     "start_time": "2023-05-26T11:39:45.998006Z"
    }
   },
   "outputs": [],
   "source": [
    "best_result = {\n",
    "    'learning_rate': 0.7641768942747523,\n",
    "    'max_depth': 28,\n",
    "    'min_child_weight': 3.0944429342261293,\n",
    "    'reg_alpha': 0.014551278531257265,\n",
    "    'reg_lambda': 0.006226148382478437\n",
    "}"
   ]
  },
  {
   "cell_type": "code",
   "execution_count": 49,
   "id": "3c082b0b",
   "metadata": {
    "ExecuteTime": {
     "end_time": "2023-05-26T11:41:05.295179Z",
     "start_time": "2023-05-26T11:39:46.420060Z"
    }
   },
   "outputs": [
    {
     "name": "stdout",
     "output_type": "stream",
     "text": [
      "[0]\tvalidation-rmse:6.87251\n",
      "[1]\tvalidation-rmse:5.40966\n",
      "[2]\tvalidation-rmse:5.17960\n",
      "[3]\tvalidation-rmse:5.12894\n",
      "[4]\tvalidation-rmse:5.11513\n",
      "[5]\tvalidation-rmse:5.10444\n",
      "[6]\tvalidation-rmse:5.09902\n",
      "[7]\tvalidation-rmse:5.09343\n",
      "[8]\tvalidation-rmse:5.08943\n",
      "[9]\tvalidation-rmse:5.08536\n",
      "[10]\tvalidation-rmse:5.08095\n",
      "[11]\tvalidation-rmse:5.07227\n",
      "[12]\tvalidation-rmse:5.06848\n",
      "[13]\tvalidation-rmse:5.06503\n",
      "[14]\tvalidation-rmse:5.06181\n",
      "[15]\tvalidation-rmse:5.05887\n",
      "[16]\tvalidation-rmse:5.05537\n",
      "[17]\tvalidation-rmse:5.05256\n",
      "[18]\tvalidation-rmse:5.04702\n",
      "[19]\tvalidation-rmse:5.04474\n",
      "[20]\tvalidation-rmse:5.04166\n",
      "[21]\tvalidation-rmse:5.03915\n",
      "[22]\tvalidation-rmse:5.03570\n",
      "[23]\tvalidation-rmse:5.03267\n",
      "[24]\tvalidation-rmse:5.02993\n",
      "[25]\tvalidation-rmse:5.02741\n",
      "[26]\tvalidation-rmse:5.02541\n",
      "[27]\tvalidation-rmse:5.02353\n",
      "[28]\tvalidation-rmse:5.02138\n",
      "[29]\tvalidation-rmse:5.01953\n",
      "[30]\tvalidation-rmse:5.01810\n",
      "[31]\tvalidation-rmse:5.01614\n",
      "[32]\tvalidation-rmse:5.01388\n",
      "[33]\tvalidation-rmse:5.01189\n",
      "[34]\tvalidation-rmse:5.01014\n",
      "[35]\tvalidation-rmse:5.00858\n",
      "[36]\tvalidation-rmse:5.00702\n",
      "[37]\tvalidation-rmse:5.00467\n",
      "[38]\tvalidation-rmse:5.00261\n",
      "[39]\tvalidation-rmse:5.00060\n",
      "[40]\tvalidation-rmse:4.99902\n",
      "[41]\tvalidation-rmse:4.99749\n",
      "[42]\tvalidation-rmse:4.99609\n",
      "[43]\tvalidation-rmse:4.99420\n",
      "[44]\tvalidation-rmse:4.99282\n",
      "[45]\tvalidation-rmse:4.99173\n",
      "[46]\tvalidation-rmse:4.99030\n",
      "[47]\tvalidation-rmse:4.98877\n",
      "[48]\tvalidation-rmse:4.98545\n",
      "[49]\tvalidation-rmse:4.98433\n"
     ]
    },
    {
     "name": "stderr",
     "output_type": "stream",
     "text": [
      "2023/05/26 17:10:58 WARNING mlflow.xgboost: Failed to infer model signature: could not sample data to infer model signature: please ensure that autologging is enabled before constructing the dataset.\n"
     ]
    }
   ],
   "source": [
    "mlflow.xgboost.autolog()\n",
    "params = best_result\n",
    "with mlflow.start_run():\n",
    "    mlflow.set_tag(\"model\", \"xgboost\")\n",
    "    mlflow.log_params(params)\n",
    "    booster = xgb.train(params=params,\n",
    "                        dtrain=train,\n",
    "                        num_boost_round=50,\n",
    "                        evals=[(valid, \"validation\")],\n",
    "                        early_stopping_rounds=5)\n",
    "\n",
    "    y_pred = booster.predict(valid)\n",
    "    rmse = mean_squared_error(y_pred, y_val, squared=False)\n",
    "    mlflow.log_metric(\"rmse\", rmse)\n",
    "    mlflow.xgboost.log_model(booster, 'model_mlflow')"
   ]
  },
  {
   "cell_type": "code",
   "execution_count": null,
   "id": "10162993",
   "metadata": {},
   "outputs": [],
   "source": []
  },
  {
   "cell_type": "code",
   "execution_count": null,
   "id": "666756ba",
   "metadata": {},
   "outputs": [],
   "source": []
  },
  {
   "cell_type": "code",
   "execution_count": null,
   "id": "82d8bf15",
   "metadata": {},
   "outputs": [],
   "source": []
  },
  {
   "cell_type": "code",
   "execution_count": null,
   "id": "c6892398",
   "metadata": {},
   "outputs": [],
   "source": []
  },
  {
   "cell_type": "code",
   "execution_count": null,
   "id": "b05ced7b",
   "metadata": {},
   "outputs": [],
   "source": []
  },
  {
   "cell_type": "code",
   "execution_count": null,
   "id": "b1bd9bb9",
   "metadata": {},
   "outputs": [],
   "source": []
  }
 ],
 "metadata": {
  "kernelspec": {
   "display_name": "Python 3 (ipykernel)",
   "language": "python",
   "name": "python3"
  },
  "language_info": {
   "codemirror_mode": {
    "name": "ipython",
    "version": 3
   },
   "file_extension": ".py",
   "mimetype": "text/x-python",
   "name": "python",
   "nbconvert_exporter": "python",
   "pygments_lexer": "ipython3",
   "version": "3.9.16"
  },
  "toc": {
   "base_numbering": 1,
   "nav_menu": {},
   "number_sections": true,
   "sideBar": true,
   "skip_h1_title": false,
   "title_cell": "Table of Contents",
   "title_sidebar": "Contents",
   "toc_cell": false,
   "toc_position": {},
   "toc_section_display": true,
   "toc_window_display": false
  }
 },
 "nbformat": 4,
 "nbformat_minor": 5
}
